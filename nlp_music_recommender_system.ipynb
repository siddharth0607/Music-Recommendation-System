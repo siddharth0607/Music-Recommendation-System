{
 "cells": [
  {
   "cell_type": "code",
   "execution_count": 1,
   "metadata": {},
   "outputs": [],
   "source": [
    "import numpy as np\n",
    "import pandas as pd\n",
    "import matplotlib.pyplot as plt\n",
    "import seaborn as sns\n",
    "import re\n",
    "import pickle\n",
    "from sklearn.feature_extraction.text import TfidfVectorizer\n",
    "import nltk\n",
    "from nltk.tokenize import word_tokenize\n",
    "from nltk.corpus import stopwords\n",
    "from nltk.stem.porter import PorterStemmer\n",
    "from sklearn.metrics.pairwise import cosine_similarity"
   ]
  },
  {
   "cell_type": "code",
   "execution_count": 2,
   "metadata": {},
   "outputs": [
    {
     "data": {
      "text/html": [
       "<div>\n",
       "<style scoped>\n",
       "    .dataframe tbody tr th:only-of-type {\n",
       "        vertical-align: middle;\n",
       "    }\n",
       "\n",
       "    .dataframe tbody tr th {\n",
       "        vertical-align: top;\n",
       "    }\n",
       "\n",
       "    .dataframe thead th {\n",
       "        text-align: right;\n",
       "    }\n",
       "</style>\n",
       "<table border=\"1\" class=\"dataframe\">\n",
       "  <thead>\n",
       "    <tr style=\"text-align: right;\">\n",
       "      <th></th>\n",
       "      <th>artist</th>\n",
       "      <th>song</th>\n",
       "      <th>link</th>\n",
       "      <th>text</th>\n",
       "    </tr>\n",
       "  </thead>\n",
       "  <tbody>\n",
       "    <tr>\n",
       "      <th>0</th>\n",
       "      <td>ABBA</td>\n",
       "      <td>Ahe's My Kind Of Girl</td>\n",
       "      <td>/a/abba/ahes+my+kind+of+girl_20598417.html</td>\n",
       "      <td>Look at her face, it's a wonderful face  \\r\\nA...</td>\n",
       "    </tr>\n",
       "    <tr>\n",
       "      <th>1</th>\n",
       "      <td>ABBA</td>\n",
       "      <td>Andante, Andante</td>\n",
       "      <td>/a/abba/andante+andante_20002708.html</td>\n",
       "      <td>Take it easy with me, please  \\r\\nTouch me gen...</td>\n",
       "    </tr>\n",
       "    <tr>\n",
       "      <th>2</th>\n",
       "      <td>ABBA</td>\n",
       "      <td>As Good As New</td>\n",
       "      <td>/a/abba/as+good+as+new_20003033.html</td>\n",
       "      <td>I'll never know why I had to go  \\r\\nWhy I had...</td>\n",
       "    </tr>\n",
       "    <tr>\n",
       "      <th>3</th>\n",
       "      <td>ABBA</td>\n",
       "      <td>Bang</td>\n",
       "      <td>/a/abba/bang_20598415.html</td>\n",
       "      <td>Making somebody happy is a question of give an...</td>\n",
       "    </tr>\n",
       "    <tr>\n",
       "      <th>4</th>\n",
       "      <td>ABBA</td>\n",
       "      <td>Bang-A-Boomerang</td>\n",
       "      <td>/a/abba/bang+a+boomerang_20002668.html</td>\n",
       "      <td>Making somebody happy is a question of give an...</td>\n",
       "    </tr>\n",
       "  </tbody>\n",
       "</table>\n",
       "</div>"
      ],
      "text/plain": [
       "  artist                   song                                        link  \\\n",
       "0   ABBA  Ahe's My Kind Of Girl  /a/abba/ahes+my+kind+of+girl_20598417.html   \n",
       "1   ABBA       Andante, Andante       /a/abba/andante+andante_20002708.html   \n",
       "2   ABBA         As Good As New        /a/abba/as+good+as+new_20003033.html   \n",
       "3   ABBA                   Bang                  /a/abba/bang_20598415.html   \n",
       "4   ABBA       Bang-A-Boomerang      /a/abba/bang+a+boomerang_20002668.html   \n",
       "\n",
       "                                                text  \n",
       "0  Look at her face, it's a wonderful face  \\r\\nA...  \n",
       "1  Take it easy with me, please  \\r\\nTouch me gen...  \n",
       "2  I'll never know why I had to go  \\r\\nWhy I had...  \n",
       "3  Making somebody happy is a question of give an...  \n",
       "4  Making somebody happy is a question of give an...  "
      ]
     },
     "execution_count": 2,
     "metadata": {},
     "output_type": "execute_result"
    }
   ],
   "source": [
    "df = pd.read_csv(r\"C:\\Users\\SIDDHARTH\\Downloads\\spotify_millsongdata.csv\")\n",
    "df.head()"
   ]
  },
  {
   "cell_type": "code",
   "execution_count": 3,
   "metadata": {},
   "outputs": [
    {
     "data": {
      "text/plain": [
       "(57650, 4)"
      ]
     },
     "execution_count": 3,
     "metadata": {},
     "output_type": "execute_result"
    }
   ],
   "source": [
    "df.shape"
   ]
  },
  {
   "cell_type": "code",
   "execution_count": 4,
   "metadata": {},
   "outputs": [
    {
     "data": {
      "text/html": [
       "<div>\n",
       "<style scoped>\n",
       "    .dataframe tbody tr th:only-of-type {\n",
       "        vertical-align: middle;\n",
       "    }\n",
       "\n",
       "    .dataframe tbody tr th {\n",
       "        vertical-align: top;\n",
       "    }\n",
       "\n",
       "    .dataframe thead th {\n",
       "        text-align: right;\n",
       "    }\n",
       "</style>\n",
       "<table border=\"1\" class=\"dataframe\">\n",
       "  <thead>\n",
       "    <tr style=\"text-align: right;\">\n",
       "      <th></th>\n",
       "      <th>artist</th>\n",
       "      <th>song</th>\n",
       "      <th>text</th>\n",
       "    </tr>\n",
       "  </thead>\n",
       "  <tbody>\n",
       "    <tr>\n",
       "      <th>23911</th>\n",
       "      <td>America</td>\n",
       "      <td>Stereo</td>\n",
       "      <td>Stereo  \\r\\nWe hear both sides  \\r\\nWe sympath...</td>\n",
       "    </tr>\n",
       "    <tr>\n",
       "      <th>18881</th>\n",
       "      <td>Stevie Wonder</td>\n",
       "      <td>Another Star</td>\n",
       "      <td>La la la la la la lala la  \\r\\nLa la la la la ...</td>\n",
       "    </tr>\n",
       "    <tr>\n",
       "      <th>44747</th>\n",
       "      <td>Nat King Cole</td>\n",
       "      <td>For All We Know</td>\n",
       "      <td>For all we know  \\r\\nWe may never meet again  ...</td>\n",
       "    </tr>\n",
       "    <tr>\n",
       "      <th>47837</th>\n",
       "      <td>Pearl Jam</td>\n",
       "      <td>Nothing As It Seems</td>\n",
       "      <td>Don't feel like home  \\r\\nEase a little out  \\...</td>\n",
       "    </tr>\n",
       "    <tr>\n",
       "      <th>23698</th>\n",
       "      <td>Allman Brothers Band</td>\n",
       "      <td>I'm Gonna Move To The Outskirts Of Town</td>\n",
       "      <td>Well I'm gonna move baby  \\r\\nWell on the outs...</td>\n",
       "    </tr>\n",
       "  </tbody>\n",
       "</table>\n",
       "</div>"
      ],
      "text/plain": [
       "                     artist                                     song  \\\n",
       "23911               America                                   Stereo   \n",
       "18881         Stevie Wonder                             Another Star   \n",
       "44747         Nat King Cole                          For All We Know   \n",
       "47837             Pearl Jam                      Nothing As It Seems   \n",
       "23698  Allman Brothers Band  I'm Gonna Move To The Outskirts Of Town   \n",
       "\n",
       "                                                    text  \n",
       "23911  Stereo  \\r\\nWe hear both sides  \\r\\nWe sympath...  \n",
       "18881  La la la la la la lala la  \\r\\nLa la la la la ...  \n",
       "44747  For all we know  \\r\\nWe may never meet again  ...  \n",
       "47837  Don't feel like home  \\r\\nEase a little out  \\...  \n",
       "23698  Well I'm gonna move baby  \\r\\nWell on the outs...  "
      ]
     },
     "execution_count": 4,
     "metadata": {},
     "output_type": "execute_result"
    }
   ],
   "source": [
    "df = df.sample(20000).drop('link',axis='columns')\n",
    "df.head()"
   ]
  },
  {
   "cell_type": "code",
   "execution_count": 5,
   "metadata": {},
   "outputs": [
    {
     "data": {
      "text/plain": [
       "\"Stereo  \\r\\nWe hear both sides  \\r\\nWe sympathize  \\r\\nWe live our lives in stereo  \\r\\nThe left and the right  \\r\\nThe dark and the light  \\r\\nWe wrestle with the balance  \\r\\nWe change our tone  \\r\\nWe leave our phone  \\r\\nAnd tape record our absence  \\r\\nIn lovin' memory  \\r\\n  \\r\\nStereo  \\r\\nWe're livin' it in stereo  \\r\\nWe fix it so our love is high fidelity  \\r\\nMix it so we never lose the melody  \\r\\nWe try to equalize our lives in stereo  \\r\\n  \\r\\nSo on we go  \\r\\nFrom side to side  \\r\\nAs we divide  \\r\\nA single life in stereo  \\r\\nThe far and the wide  \\r\\nWe override  \\r\\nThe feedback from the others  \\r\\nThe unkind phrase  \\r\\nWe lock in phase  \\r\\nWe're only really listening to the stereo  \\r\\n  \\r\\nStereo  \\r\\nWe're livin' it in stereo  \\r\\nWe tune it till we have a perfect parody  \\r\\nCommune with such a fine-cut, crystal clarity  \\r\\nIt seems to symbolize  \\r\\nOur lives in stereo  \\r\\n  \\r\\nOo (la, la, la, la, la, la), yeah, yeah, yeah  \\r\\nOo (la, la, la, la, la, la), yeah, yeah, yeah  \\r\\nOo (la, la, la, la-a)  \\r\\n  \\r\\nStereo  \\r\\nStereo  \\r\\nWe fix it so our love is high fidelity  \\r\\nMix it so we never lose the melody  \\r\\nWe try to equalize our lives in stereo  \\r\\n  \\r\\nStereo  \\r\\nStereo  \\r\\nWe fix it so our love is high fidelity  \\r\\nMix it so we never lose the melody  \\r\\nWe try to equalize our lives in stereo\\r\\n\\r\\n\""
      ]
     },
     "execution_count": 5,
     "metadata": {},
     "output_type": "execute_result"
    }
   ],
   "source": [
    "df['text'].iloc[0]"
   ]
  },
  {
   "cell_type": "code",
   "execution_count": 6,
   "metadata": {},
   "outputs": [
    {
     "data": {
      "text/plain": [
       "artist    0\n",
       "song      0\n",
       "text      0\n",
       "dtype: int64"
      ]
     },
     "execution_count": 6,
     "metadata": {},
     "output_type": "execute_result"
    }
   ],
   "source": [
    "df.isna().sum()"
   ]
  },
  {
   "cell_type": "code",
   "execution_count": 7,
   "metadata": {},
   "outputs": [
    {
     "data": {
      "text/plain": [
       "0"
      ]
     },
     "execution_count": 7,
     "metadata": {},
     "output_type": "execute_result"
    }
   ],
   "source": [
    "df.duplicated().sum()"
   ]
  },
  {
   "cell_type": "code",
   "execution_count": 8,
   "metadata": {},
   "outputs": [
    {
     "data": {
      "text/html": [
       "<div>\n",
       "<style scoped>\n",
       "    .dataframe tbody tr th:only-of-type {\n",
       "        vertical-align: middle;\n",
       "    }\n",
       "\n",
       "    .dataframe tbody tr th {\n",
       "        vertical-align: top;\n",
       "    }\n",
       "\n",
       "    .dataframe thead th {\n",
       "        text-align: right;\n",
       "    }\n",
       "</style>\n",
       "<table border=\"1\" class=\"dataframe\">\n",
       "  <thead>\n",
       "    <tr style=\"text-align: right;\">\n",
       "      <th></th>\n",
       "      <th>artist</th>\n",
       "      <th>song</th>\n",
       "      <th>text</th>\n",
       "    </tr>\n",
       "  </thead>\n",
       "  <tbody>\n",
       "    <tr>\n",
       "      <th>23911</th>\n",
       "      <td>America</td>\n",
       "      <td>Stereo</td>\n",
       "      <td>Stereo  \\r\\nWe hear both sides  \\r\\nWe sympath...</td>\n",
       "    </tr>\n",
       "    <tr>\n",
       "      <th>18881</th>\n",
       "      <td>Stevie Wonder</td>\n",
       "      <td>Another Star</td>\n",
       "      <td>La la la la la la lala la  \\r\\nLa la la la la ...</td>\n",
       "    </tr>\n",
       "    <tr>\n",
       "      <th>44747</th>\n",
       "      <td>Nat King Cole</td>\n",
       "      <td>For All We Know</td>\n",
       "      <td>For all we know  \\r\\nWe may never meet again  ...</td>\n",
       "    </tr>\n",
       "    <tr>\n",
       "      <th>47837</th>\n",
       "      <td>Pearl Jam</td>\n",
       "      <td>Nothing As It Seems</td>\n",
       "      <td>Don't feel like home  \\r\\nEase a little out  \\...</td>\n",
       "    </tr>\n",
       "    <tr>\n",
       "      <th>23698</th>\n",
       "      <td>Allman Brothers Band</td>\n",
       "      <td>I'm Gonna Move To The Outskirts Of Town</td>\n",
       "      <td>Well I'm gonna move baby  \\r\\nWell on the outs...</td>\n",
       "    </tr>\n",
       "  </tbody>\n",
       "</table>\n",
       "</div>"
      ],
      "text/plain": [
       "                     artist                                     song  \\\n",
       "23911               America                                   Stereo   \n",
       "18881         Stevie Wonder                             Another Star   \n",
       "44747         Nat King Cole                          For All We Know   \n",
       "47837             Pearl Jam                      Nothing As It Seems   \n",
       "23698  Allman Brothers Band  I'm Gonna Move To The Outskirts Of Town   \n",
       "\n",
       "                                                    text  \n",
       "23911  Stereo  \\r\\nWe hear both sides  \\r\\nWe sympath...  \n",
       "18881  La la la la la la lala la  \\r\\nLa la la la la ...  \n",
       "44747  For all we know  \\r\\nWe may never meet again  ...  \n",
       "47837  Don't feel like home  \\r\\nEase a little out  \\...  \n",
       "23698  Well I'm gonna move baby  \\r\\nWell on the outs...  "
      ]
     },
     "execution_count": 8,
     "metadata": {},
     "output_type": "execute_result"
    }
   ],
   "source": [
    "df.head()"
   ]
  },
  {
   "cell_type": "code",
   "execution_count": 9,
   "metadata": {},
   "outputs": [],
   "source": [
    "def preprocess_text(text):\n",
    "    # Convert all words to lowercase\n",
    "    text = text.lower()\n",
    "    # Remove punctuation marks and extra whitespaces\n",
    "    text = re.sub(r'[^\\w\\s]', '', text)\n",
    "    # Replace multiple whitespaces with a single space\n",
    "    text = re.sub(r'\\s+', ' ', text)\n",
    "    # Strip leading and trailing whitespaces\n",
    "    text = text.strip()\n",
    "    return text"
   ]
  },
  {
   "cell_type": "code",
   "execution_count": 10,
   "metadata": {},
   "outputs": [],
   "source": [
    "df['text'] = df['text'].apply(preprocess_text)"
   ]
  },
  {
   "cell_type": "code",
   "execution_count": 11,
   "metadata": {},
   "outputs": [
    {
     "data": {
      "text/plain": [
       "'stereo we hear both sides we sympathize we live our lives in stereo the left and the right the dark and the light we wrestle with the balance we change our tone we leave our phone and tape record our absence in lovin memory stereo were livin it in stereo we fix it so our love is high fidelity mix it so we never lose the melody we try to equalize our lives in stereo so on we go from side to side as we divide a single life in stereo the far and the wide we override the feedback from the others the unkind phrase we lock in phase were only really listening to the stereo stereo were livin it in stereo we tune it till we have a perfect parody commune with such a finecut crystal clarity it seems to symbolize our lives in stereo oo la la la la la la yeah yeah yeah oo la la la la la la yeah yeah yeah oo la la la laa stereo stereo we fix it so our love is high fidelity mix it so we never lose the melody we try to equalize our lives in stereo stereo stereo we fix it so our love is high fidelity mix it so we never lose the melody we try to equalize our lives in stereo'"
      ]
     },
     "execution_count": 11,
     "metadata": {},
     "output_type": "execute_result"
    }
   ],
   "source": [
    "df['text'].iloc[0]"
   ]
  },
  {
   "cell_type": "code",
   "execution_count": 13,
   "metadata": {},
   "outputs": [],
   "source": [
    "ps = PorterStemmer()"
   ]
  },
  {
   "cell_type": "code",
   "execution_count": 14,
   "metadata": {},
   "outputs": [],
   "source": [
    "def stem(text):\n",
    "    y = []\n",
    "    for i in text.split():\n",
    "        y.append(ps.stem(i))\n",
    "    return \" \".join(y)"
   ]
  },
  {
   "cell_type": "code",
   "execution_count": 15,
   "metadata": {},
   "outputs": [
    {
     "data": {
      "text/plain": [
       "(20000, 3)"
      ]
     },
     "execution_count": 15,
     "metadata": {},
     "output_type": "execute_result"
    }
   ],
   "source": [
    "df.shape"
   ]
  },
  {
   "cell_type": "code",
   "execution_count": 16,
   "metadata": {},
   "outputs": [],
   "source": [
    "df['text'] = df['text'].apply(stem)"
   ]
  },
  {
   "cell_type": "code",
   "execution_count": 17,
   "metadata": {},
   "outputs": [
    {
     "data": {
      "text/plain": [
       "'stereo we hear both side we sympath we live our live in stereo the left and the right the dark and the light we wrestl with the balanc we chang our tone we leav our phone and tape record our absenc in lovin memori stereo were livin it in stereo we fix it so our love is high fidel mix it so we never lose the melodi we tri to equal our live in stereo so on we go from side to side as we divid a singl life in stereo the far and the wide we overrid the feedback from the other the unkind phrase we lock in phase were onli realli listen to the stereo stereo were livin it in stereo we tune it till we have a perfect parodi commun with such a finecut crystal clariti it seem to symbol our live in stereo oo la la la la la la yeah yeah yeah oo la la la la la la yeah yeah yeah oo la la la laa stereo stereo we fix it so our love is high fidel mix it so we never lose the melodi we tri to equal our live in stereo stereo stereo we fix it so our love is high fidel mix it so we never lose the melodi we tri to equal our live in stereo'"
      ]
     },
     "execution_count": 17,
     "metadata": {},
     "output_type": "execute_result"
    }
   ],
   "source": [
    "df['text'].iloc[0]"
   ]
  },
  {
   "cell_type": "code",
   "execution_count": 18,
   "metadata": {},
   "outputs": [
    {
     "data": {
      "text/plain": [
       "'someth'"
      ]
     },
     "execution_count": 18,
     "metadata": {},
     "output_type": "execute_result"
    }
   ],
   "source": [
    "ps.stem('something')"
   ]
  },
  {
   "cell_type": "code",
   "execution_count": 19,
   "metadata": {},
   "outputs": [],
   "source": [
    "tfidvector = TfidfVectorizer(analyzer='word',stop_words='english')"
   ]
  },
  {
   "cell_type": "code",
   "execution_count": 20,
   "metadata": {},
   "outputs": [],
   "source": [
    "vectors = tfidvector.fit_transform(df['text'])"
   ]
  },
  {
   "cell_type": "code",
   "execution_count": 21,
   "metadata": {},
   "outputs": [
    {
     "data": {
      "text/plain": [
       "(20000, 40455)"
      ]
     },
     "execution_count": 21,
     "metadata": {},
     "output_type": "execute_result"
    }
   ],
   "source": [
    "vectors.shape"
   ]
  },
  {
   "cell_type": "code",
   "execution_count": 22,
   "metadata": {},
   "outputs": [
    {
     "data": {
      "text/plain": [
       "<1x40455 sparse matrix of type '<class 'numpy.float64'>'\n",
       "\twith 56 stored elements in Compressed Sparse Row format>"
      ]
     },
     "execution_count": 22,
     "metadata": {},
     "output_type": "execute_result"
    }
   ],
   "source": [
    "vectors[0]"
   ]
  },
  {
   "cell_type": "code",
   "execution_count": 23,
   "metadata": {},
   "outputs": [
    {
     "name": "stdout",
     "output_type": "stream",
     "text": [
      "['00' '000' '007' ... 'zyada' 'zydeco' 'zydin']\n"
     ]
    }
   ],
   "source": [
    "print(tfidvector.get_feature_names_out())"
   ]
  },
  {
   "cell_type": "code",
   "execution_count": 24,
   "metadata": {},
   "outputs": [],
   "source": [
    "similarity = cosine_similarity(vectors)"
   ]
  },
  {
   "cell_type": "code",
   "execution_count": 25,
   "metadata": {},
   "outputs": [
    {
     "data": {
      "text/plain": [
       "array([1.        , 0.45858595, 0.00460524, ..., 0.01462682, 0.01505505,\n",
       "       0.01953462])"
      ]
     },
     "execution_count": 25,
     "metadata": {},
     "output_type": "execute_result"
    }
   ],
   "source": [
    "similarity[0]"
   ]
  },
  {
   "cell_type": "code",
   "execution_count": 26,
   "metadata": {},
   "outputs": [
    {
     "data": {
      "text/plain": [
       "(20000, 20000)"
      ]
     },
     "execution_count": 26,
     "metadata": {},
     "output_type": "execute_result"
    }
   ],
   "source": [
    "similarity.shape"
   ]
  },
  {
   "cell_type": "code",
   "execution_count": 27,
   "metadata": {},
   "outputs": [],
   "source": [
    "def recommendation(song_df):\n",
    "    idx = df[df['song'] == song_df].index[0]\n",
    "    distances = sorted(list(enumerate(similarity[idx])),reverse=True,key=lambda x:x[1])\n",
    "    \n",
    "    songs = []\n",
    "    for m_id in distances[1:6]:\n",
    "        songs.append(df.iloc[m_id[0]].song)\n",
    "        \n",
    "    return songs"
   ]
  },
  {
   "cell_type": "code",
   "execution_count": 28,
   "metadata": {},
   "outputs": [],
   "source": [
    "# recommendation(\"Down On The River\")"
   ]
  },
  {
   "cell_type": "code",
   "execution_count": 29,
   "metadata": {},
   "outputs": [],
   "source": [
    "pickle.dump(df.to_dict(),open('songs.pkl','wb'))"
   ]
  },
  {
   "cell_type": "code",
   "execution_count": 30,
   "metadata": {},
   "outputs": [],
   "source": [
    "pickle.dump(similarity,open('similarity.pkl','wb'))"
   ]
  }
 ],
 "metadata": {
  "kernelspec": {
   "display_name": "Python 3",
   "language": "python",
   "name": "python3"
  },
  "language_info": {
   "codemirror_mode": {
    "name": "ipython",
    "version": 3
   },
   "file_extension": ".py",
   "mimetype": "text/x-python",
   "name": "python",
   "nbconvert_exporter": "python",
   "pygments_lexer": "ipython3",
   "version": "3.10.7"
  }
 },
 "nbformat": 4,
 "nbformat_minor": 2
}
